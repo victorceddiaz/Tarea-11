{
  "nbformat": 4,
  "nbformat_minor": 0,
  "metadata": {
    "colab": {
      "name": "Arboles_1310.ipynb",
      "provenance": [],
      "collapsed_sections": [],
      "authorship_tag": "ABX9TyNU3os48GxTqIxYeLoUQuoc",
      "include_colab_link": true
    },
    "kernelspec": {
      "name": "python3",
      "display_name": "Python 3"
    },
    "language_info": {
      "name": "python"
    }
  },
  "cells": [
    {
      "cell_type": "markdown",
      "metadata": {
        "id": "view-in-github",
        "colab_type": "text"
      },
      "source": [
        "<a href=\"https://colab.research.google.com/github/victorceddiaz/Tarea-11/blob/main/Arboles_1310.ipynb\" target=\"_parent\"><img src=\"https://colab.research.google.com/assets/colab-badge.svg\" alt=\"Open In Colab\"/></a>"
      ]
    },
    {
      "cell_type": "code",
      "metadata": {
        "id": "2Iib-qAFBqoN"
      },
      "source": [
        "class NodoBinario :\n",
        "    def __init__(self, value, left = None, right = None) :\n",
        "        self.data = value\n",
        "        self.left = left\n",
        "        self.right = right\n",
        "\n",
        "class NodoTernario :\n",
        "    def __init__(self, value, left = None, center = None, right = None) :\n",
        "        self.data = value\n",
        "        self.left = left\n",
        "        self.center = center\n",
        "        self.right = right"
      ],
      "execution_count": 1,
      "outputs": []
    },
    {
      "cell_type": "code",
      "metadata": {
        "colab": {
          "base_uri": "https://localhost:8080/"
        },
        "id": "7YQamUoeD5i0",
        "outputId": "ffef8471-8875-491a-9e98-9f7e67301421"
      },
      "source": [
        "arbol1 = NodoBinario(\"R\", NodoBinario(\"C\"), NodoBinario(\"H\"))\n",
        "print(arbol1.right.data)\n",
        "\n",
        "arbol2 = NodoTernario(4, NodoTernario(3, NodoTernario(5, left = NodoTernario(2)), NodoTernario(5), NodoTernario(2)), None, NodoTernario(5))\n",
        "print(arbol2.left.right.data)\n",
        "print(arbol2.data)\n",
        "print(arbol2.left.left.left.data)\n",
        "\n",
        "print(\"\\nForma 2 de hacerlo\")\n",
        "aux = arbol2\n",
        "while (aux.left != None) :\n",
        "    aux = aux.left\n",
        "print(aux.data)"
      ],
      "execution_count": 2,
      "outputs": [
        {
          "output_type": "stream",
          "name": "stdout",
          "text": [
            "H\n",
            "2\n",
            "4\n",
            "2\n",
            "\n",
            "Forma 2 de hacerlo\n",
            "2\n"
          ]
        }
      ]
    },
    {
      "cell_type": "code",
      "metadata": {
        "colab": {
          "base_uri": "https://localhost:8080/"
        },
        "id": "Iv7sg2nwHMxK",
        "outputId": "d699c429-07a6-404c-c34e-2356eacb861c"
      },
      "source": [
        "root = NodoBinario(\"Santi\", None, NodoBinario(\"Jesus\", NodoBinario(\"Pedro\", None, NodoBinario(\"PedroJr\"))))\n",
        "print(root.data)\n",
        "print(root.right.data)\n",
        "print(root.right.left.data)\n",
        "print(root.right.left.right.data)"
      ],
      "execution_count": 46,
      "outputs": [
        {
          "output_type": "stream",
          "name": "stdout",
          "text": [
            "Santi\n",
            "Jesus\n",
            "Pedro\n",
            "PedroJr\n"
          ]
        }
      ]
    },
    {
      "cell_type": "code",
      "metadata": {
        "id": "fgXFqjCwIZEN"
      },
      "source": [
        "class BinaryNode:\n",
        "    def __init__( self , value , left=None , rigth= None ):\n",
        "        self.data = value\n",
        "        self.left = left\n",
        "        self.rigth = rigth\n",
        "\n",
        "class BinarySearchTree:\n",
        "    def __init__( self ):\n",
        "        self.root = None\n",
        "    \n",
        "    def insert( self , value ):\n",
        "        if self.root == None:\n",
        "            self.root = BinaryNode( value )\n",
        "        else:\n",
        "            self.__insert_nodo( self.root , value )\n",
        "        \n",
        "    def __insert_nodo(self , nodo , value ):\n",
        "        if nodo.data == value: \n",
        "            pass\n",
        "        elif value < nodo.data:# ir a la izq\n",
        "            if nodo.left == None:\n",
        "                nodo.left = BinaryNode( value )\n",
        "            else:\n",
        "                self.__insert_nodo( nodo.left , value )\n",
        "        else:  # ir a la derecha\n",
        "            if nodo.rigth == None:\n",
        "                nodo.rigth = BinaryNode( value )\n",
        "            else:\n",
        "                self.__insert_nodo( nodo.rigth , value )\n",
        "    \n",
        "    def transversal( self , formato = \"posorden\"):\n",
        "        if formato == \"posorden\":\n",
        "            self.recorrido_pos( self.root )\n",
        "        elif formato == \"preorden\":\n",
        "            self.recorrido_pre(self.root )\n",
        "        else: # inorden\n",
        "            self.recorrido_in( self.root )\n",
        "        print()\n",
        "\n",
        "    def  recorrido_pos( self , nodo ):\n",
        "        if nodo != None:\n",
        "            self.recorrido_pos( nodo.left )\n",
        "            self.recorrido_pos( nodo.rigth )\n",
        "            print( str(nodo.data) , end=\" , \" )\n",
        "    \n",
        "    def  recorrido_pre( self , nodo ):\n",
        "        if nodo != None:\n",
        "            print( str(nodo.data) , end=\" , \" )\n",
        "            self.recorrido_pre( nodo.left )\n",
        "            self.recorrido_pre( nodo.rigth )\n",
        "    \n",
        "    def  recorrido_in( self , nodo ):\n",
        "        if nodo != None:\n",
        "            self.recorrido_in( nodo.left )\n",
        "            print( str(nodo.data) , end=\" , \" )\n",
        "            self.recorrido_in( nodo.rigth ) \n",
        "\n",
        "    def search( self , value ):\n",
        "        if self.root == None:\n",
        "            print(\"El árbol está vacío\")\n",
        "            return None\n",
        "        else:\n",
        "            return self.__search( self.root , value )\n",
        "\n",
        "    def __search( self , nodo , value ):\n",
        "        if nodo == None:\n",
        "            print(\"El dato no existe en el árbol\") \n",
        "            return None\n",
        "        elif nodo.data == value:\n",
        "            print(\"Encontrado\", nodo.data)\n",
        "            return nodo\n",
        "        elif value < nodo.data:\n",
        "            return self.__search( nodo.left , value  )\n",
        "        else:\n",
        "            return self.__search( nodo.rigth , value )  \n",
        "    \n",
        "    def remove( self , value ):\n",
        "        if self.root == None:\n",
        "            print(\"El árbol está vacío\")\n",
        "            return None\n",
        "        else:\n",
        "            if self.root == value :\n",
        "                pass\n",
        "            else :\n",
        "                self.__remove( self.root , value )\n",
        "\n",
        "    def __remove( self , nodo , value ):\n",
        "        if nodo == None:\n",
        "            print(\"El dato no existe en el árbol\") \n",
        "        elif nodo.data == value:\n",
        "            #aqui va todo\n",
        "            if nodo.left == None and nodo.rigth == None :\n",
        "                nodo = None\n",
        "            elif nodo.left != None and nodo.rigth == None :\n",
        "                nodo = nodo.left\n",
        "                nodo.left = None\n",
        "            elif nodo.left == None and nodo.rigth != None :\n",
        "                nodo = nodo.rigth\n",
        "                nodo.rigth = None\n",
        "            elif nodo.left != None and nodo.rigth != None :\n",
        "                nodo = nodo.left\n",
        "                nodo.left = nodo.left.left\n",
        "        elif value < nodo.data:\n",
        "            return self.__remove( nodo.left , value )\n",
        "        else:\n",
        "            return self.__remove( nodo.rigth , value ) "
      ],
      "execution_count": 47,
      "outputs": []
    },
    {
      "cell_type": "code",
      "metadata": {
        "colab": {
          "base_uri": "https://localhost:8080/"
        },
        "id": "gbeuVdmtLP92",
        "outputId": "0b074f75-257c-42c5-c6b1-ff0e3d3aafb5"
      },
      "source": [
        "abb = BinarySearchTree()\n",
        "abb.insert(30)\n",
        "abb.insert(15)\n",
        "abb.insert(45)\n",
        "abb.insert(12)\n",
        "abb.insert(17)\n",
        "abb.insert(50)\n",
        "abb.insert(55)\n",
        "abb.insert(35)\n",
        "abb.insert(2)\n",
        "abb.insert(1)\n",
        "abb.insert(80)\n",
        "abb.insert(60)\n",
        "abb.transversal(\"posorden\")\n",
        "abb.transversal(\"preorden\")\n",
        "abb.transversal(\"inorden\")\n",
        "res = abb.search(45)\n",
        "print(res) # imprime referencia de memoria del nodo resultante\n",
        "print(res.data) # 45\n",
        "print(res.left.data)\n",
        "print(\"\")\n",
        "abb.remove(1)\n",
        "abb.transversal(\"inorden\")"
      ],
      "execution_count": 49,
      "outputs": [
        {
          "output_type": "stream",
          "name": "stdout",
          "text": [
            "1 , 2 , 12 , 17 , 15 , 35 , 60 , 80 , 55 , 50 , 45 , 30 , \n",
            "30 , 15 , 12 , 2 , 1 , 17 , 45 , 35 , 50 , 55 , 80 , 60 , \n",
            "1 , 2 , 12 , 15 , 17 , 30 , 35 , 45 , 50 , 55 , 60 , 80 , \n",
            "Encontrado 45\n",
            "<__main__.BinaryNode object at 0x7f46fae82310>\n",
            "45\n",
            "35\n",
            "\n",
            "1 , 2 , 12 , 15 , 17 , 30 , 35 , 45 , 50 , 55 , 60 , 80 , \n"
          ]
        }
      ]
    }
  ]
}